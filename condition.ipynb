{
 "cells": [
  {
   "cell_type": "code",
   "execution_count": 5,
   "id": "1c4d5381",
   "metadata": {},
   "outputs": [],
   "source": [
    "#### Conditional Statement "
   ]
  },
  {
   "cell_type": "markdown",
   "id": "755fdf6f",
   "metadata": {},
   "source": [
    "**true** markdown"
   ]
  },
  {
   "cell_type": "code",
   "execution_count": null,
   "id": "f260c420",
   "metadata": {},
   "outputs": [
    {
     "name": "stdout",
     "output_type": "stream",
     "text": [
      "valur of x 10\n"
     ]
    }
   ],
   "source": [
    "x = 10 \n",
    "if x>5 :\n",
    "    print(\"valur of x\" , x)\n",
    "    #code "
   ]
  },
  {
   "cell_type": "code",
   "execution_count": 15,
   "id": "2570be48",
   "metadata": {},
   "outputs": [
    {
     "ename": "IndentationError",
     "evalue": "unexpected indent (1530087343.py, line 3)",
     "output_type": "error",
     "traceback": [
      "  \u001b[36mCell\u001b[39m\u001b[36m \u001b[39m\u001b[32mIn[15]\u001b[39m\u001b[32m, line 3\u001b[39m\n\u001b[31m    \u001b[39m\u001b[31mif x>5:\u001b[39m\n    ^\n\u001b[31mIndentationError\u001b[39m\u001b[31m:\u001b[39m unexpected indent\n"
     ]
    }
   ],
   "source": [
    "####if-else Statement\n",
    "x = 5\n",
    " if x>5:\n",
    "    print(\"it is grater \")\n",
    "else if:\n",
    "    print(\"x is not greater\")\n",
    "    "
   ]
  },
  {
   "cell_type": "code",
   "execution_count": null,
   "id": "84d04767",
   "metadata": {},
   "outputs": [],
   "source": []
  },
  {
   "cell_type": "code",
   "execution_count": 20,
   "id": "3f5300be",
   "metadata": {},
   "outputs": [
    {
     "name": "stdout",
     "output_type": "stream",
     "text": [
      "ODD\n"
     ]
    }
   ],
   "source": [
    "x=7\n",
    "result = \"EVEN\" if x%2==0 else \"ODD\"\n",
    "print(result)"
   ]
  },
  {
   "cell_type": "code",
   "execution_count": null,
   "id": "8bb2b7a4",
   "metadata": {},
   "outputs": [
    {
     "name": "stdout",
     "output_type": "stream",
     "text": [
      " Extolling your efforts yu got GRADE A \n"
     ]
    }
   ],
   "source": [
    "x= int(input(\"enter your marks \"))\n",
    "#print(\"your marks is \",x,\"Analysing your grade...\")\n",
    "if(x>100):\n",
    "     print(\"invalid\")\n",
    "elif(x>=90):\n",
    "     print(\" Congratulations Extolling your efforts you got GRADE A \")\n",
    "elif(x>=80 and x<=89):\n",
    "     print(\"push more you got GRADE B \")\n",
    "elif(x>=70 and x<=79):\n",
    "     print(\"Need to work harder you got GRADE C \")\n",
    "else :\n",
    "     print (\"Sorry better luck next time failed \")"
   ]
  },
  {
   "cell_type": "code",
   "execution_count": 45,
   "id": "4e4c24fa",
   "metadata": {},
   "outputs": [
    {
     "ename": "IndentationError",
     "evalue": "expected an indented block after 'if' statement on line 3 (3090657962.py, line 4)",
     "output_type": "error",
     "traceback": [
      "  \u001b[36mCell\u001b[39m\u001b[36m \u001b[39m\u001b[32mIn[45]\u001b[39m\u001b[32m, line 4\u001b[39m\n\u001b[31m    \u001b[39m\u001b[31mcontinue\u001b[39m\n    ^\n\u001b[31mIndentationError\u001b[39m\u001b[31m:\u001b[39m expected an indented block after 'if' statement on line 3\n"
     ]
    }
   ],
   "source": [
    "#continue \n",
    "for x in range(2,15):\n",
    "    if x==5:\n",
    "    continue\n",
    "print(x)"
   ]
  },
  {
   "cell_type": "code",
   "execution_count": 12,
   "id": "2e7a0ffe",
   "metadata": {},
   "outputs": [
    {
     "name": "stdout",
     "output_type": "stream",
     "text": [
      "x is equal\n"
     ]
    }
   ],
   "source": [
    "x=5\n",
    "if x>5:\n",
    "    print(\"x is greater\")\n",
    "elif x==5:\n",
    "    print(\"x is equal\")\n",
    "else:\n",
    "    print(\"no\")\n",
    "    "
   ]
  },
  {
   "cell_type": "code",
   "execution_count": 19,
   "id": "1a49899c",
   "metadata": {},
   "outputs": [
    {
     "name": "stdout",
     "output_type": "stream",
     "text": [
      "x is in middle \n"
     ]
    }
   ],
   "source": [
    "x=10\n",
    "if x>0:\n",
    "    if x<20:\n",
    "        print (\"x is in middle \")"
   ]
  }
 ],
 "metadata": {
  "kernelspec": {
   "display_name": "Python 3",
   "language": "python",
   "name": "python3"
  },
  "language_info": {
   "codemirror_mode": {
    "name": "ipython",
    "version": 3
   },
   "file_extension": ".py",
   "mimetype": "text/x-python",
   "name": "python",
   "nbconvert_exporter": "python",
   "pygments_lexer": "ipython3",
   "version": "3.11.5"
  }
 },
 "nbformat": 4,
 "nbformat_minor": 5
}
