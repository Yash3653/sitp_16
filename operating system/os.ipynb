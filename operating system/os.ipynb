{
 "cells": [
  {
   "cell_type": "markdown",
   "id": "6d0ca278",
   "metadata": {},
   "source": [
    "#### OS"
   ]
  },
  {
   "cell_type": "code",
   "execution_count": 1,
   "id": "5b31318b",
   "metadata": {},
   "outputs": [],
   "source": [
    "import os ## operating system  module and import is key word"
   ]
  },
  {
   "cell_type": "code",
   "execution_count": 2,
   "id": "9e44afca",
   "metadata": {},
   "outputs": [
    {
     "name": "stdout",
     "output_type": "stream",
     "text": [
      "current working directory:- c:\\Users\\Asus\\OneDrive\\Desktop\\Data Science 16\\sitp_16\\operating system\n"
     ]
    }
   ],
   "source": [
    "folder_path=os.getcwd() ## get current working directory\n",
    "print(\"current working directory:-\",folder_path)"
   ]
  },
  {
   "cell_type": "code",
   "execution_count": 3,
   "id": "460b22cd",
   "metadata": {},
   "outputs": [
    {
     "name": "stdout",
     "output_type": "stream",
     "text": [
      "total list os current directory:- ['os.ipynb']\n"
     ]
    }
   ],
   "source": [
    "total_file=os.listdir()\n",
    "print(\"total list os current directory:-\",total_file)"
   ]
  },
  {
   "cell_type": "code",
   "execution_count": 4,
   "id": "3618bad1",
   "metadata": {},
   "outputs": [
    {
     "ename": "FileNotFoundError",
     "evalue": "[WinError 3] The system cannot find the path specified: 'c:\\\\Users\\\\kumaw\\\\OneDrive\\\\Desktop'",
     "output_type": "error",
     "traceback": [
      "\u001b[31m---------------------------------------------------------------------------\u001b[39m",
      "\u001b[31mFileNotFoundError\u001b[39m                         Traceback (most recent call last)",
      "\u001b[36mCell\u001b[39m\u001b[36m \u001b[39m\u001b[32mIn[4]\u001b[39m\u001b[32m, line 1\u001b[39m\n\u001b[32m----> \u001b[39m\u001b[32m1\u001b[39m total_file=\u001b[43mos\u001b[49m\u001b[43m.\u001b[49m\u001b[43mlistdir\u001b[49m\u001b[43m(\u001b[49m\u001b[33;43mr\u001b[39;49m\u001b[33;43m\"\u001b[39;49m\u001b[33;43mc:\u001b[39;49m\u001b[33;43m\\\u001b[39;49m\u001b[33;43mUsers\u001b[39;49m\u001b[33;43m\\\u001b[39;49m\u001b[33;43mkumaw\u001b[39;49m\u001b[33;43m\\\u001b[39;49m\u001b[33;43mOneDrive\u001b[39;49m\u001b[33;43m\\\u001b[39;49m\u001b[33;43mDesktop\u001b[39;49m\u001b[33;43m\"\u001b[39;49m\u001b[43m)\u001b[49m\n\u001b[32m      2\u001b[39m \u001b[38;5;28mprint\u001b[39m(\u001b[33m\"\u001b[39m\u001b[33mtotal list os current directory:-\u001b[39m\u001b[33m\"\u001b[39m,total_file)\n",
      "\u001b[31mFileNotFoundError\u001b[39m: [WinError 3] The system cannot find the path specified: 'c:\\\\Users\\\\kumaw\\\\OneDrive\\\\Desktop'"
     ]
    }
   ],
   "source": [
    "total_file=os.listdir(r\"c:\\Users\\kumaw\\OneDrive\\Desktop\")\n",
    "print(\"total list os current directory:-\",total_file)"
   ]
  },
  {
   "cell_type": "code",
   "execution_count": null,
   "id": "1f972b19",
   "metadata": {},
   "outputs": [
    {
     "name": "stdout",
     "output_type": "stream",
     "text": [
      "Folder created succesfully\n"
     ]
    }
   ],
   "source": [
    "os.mkdir(\"Demo\") ## creating folder\n",
    "print(\"Folder created succesfully\")"
   ]
  },
  {
   "cell_type": "code",
   "execution_count": null,
   "id": "027c8529",
   "metadata": {},
   "outputs": [
    {
     "name": "stdout",
     "output_type": "stream",
     "text": [
      "total list os current directory:- ['Demo', 'os.ipynb']\n"
     ]
    }
   ],
   "source": [
    "total_file=os.listdir()\n",
    "print(\"total list os current directory:-\",total_file)"
   ]
  },
  {
   "cell_type": "code",
   "execution_count": null,
   "id": "319f026b",
   "metadata": {},
   "outputs": [
    {
     "name": "stdout",
     "output_type": "stream",
     "text": [
      "Folder renamed successfully\n"
     ]
    }
   ],
   "source": [
    "os.rename(\"Demo\",\"Data science\")\n",
    "print(\"Folder renamed successfully\")"
   ]
  },
  {
   "cell_type": "code",
   "execution_count": null,
   "id": "d52b36ad",
   "metadata": {},
   "outputs": [
    {
     "name": "stdout",
     "output_type": "stream",
     "text": [
      "total list os current directory:- ['Data science', 'os.ipynb']\n"
     ]
    }
   ],
   "source": [
    "total_file=os.listdir()\n",
    "print(\"total list os current directory:-\",total_file)"
   ]
  },
  {
   "cell_type": "code",
   "execution_count": null,
   "id": "5a23f630",
   "metadata": {},
   "outputs": [
    {
     "name": "stdout",
     "output_type": "stream",
     "text": [
      "Folder removed successfully\n"
     ]
    }
   ],
   "source": [
    "os.rmdir(\"Data science\") ### removing folder\n",
    "print(\"Folder removed successfully\")"
   ]
  },
  {
   "cell_type": "code",
   "execution_count": null,
   "id": "cdce946f",
   "metadata": {},
   "outputs": [
    {
     "name": "stdout",
     "output_type": "stream",
     "text": [
      "total list os current directory:- ['os.ipynb']\n"
     ]
    }
   ],
   "source": [
    "total_file=os.listdir()\n",
    "print(\"total list os current directory:-\",total_file)"
   ]
  },
  {
   "cell_type": "code",
   "execution_count": null,
   "id": "2c7dae7d",
   "metadata": {},
   "outputs": [],
   "source": [
    "# os.remove(\"file_name/ file ka path\") ### removing file from your dir \n",
    "# print(\"file removed successfully\")\n"
   ]
  },
  {
   "cell_type": "code",
   "execution_count": 6,
   "id": "b8bf4c48",
   "metadata": {},
   "outputs": [
    {
     "name": "stdout",
     "output_type": "stream",
     "text": [
      "path exist:- None\n"
     ]
    }
   ],
   "source": [
    "path = r\"c:\\Users\\kumaw\\OneDrive\\Desktop\\Data Science 16 june\\OS\"\n",
    "path = os.environ.get(path)\n",
    "print(\"path exist:-\", path)"
   ]
  },
  {
   "cell_type": "code",
   "execution_count": 5,
   "id": "7a59355e",
   "metadata": {},
   "outputs": [
    {
     "data": {
      "text/plain": [
       "1"
      ]
     },
     "execution_count": 5,
     "metadata": {},
     "output_type": "execute_result"
    }
   ],
   "source": [
    "os.system(r\"c:\\Users\\kumaw\\OneDrive\") ### system cammand\n"
   ]
  },
  {
   "cell_type": "code",
   "execution_count": null,
   "id": "ce18eb12",
   "metadata": {},
   "outputs": [
    {
     "data": {
      "text/plain": [
       "['1.png',\n",
       " '2.jpg',\n",
       " '2.png',\n",
       " '3.jpg',\n",
       " '4.png',\n",
       " '5.jpeg',\n",
       " 'CampusX - Gradient Boosting for Classification Geometric Intuition CampusX [4p5EQtyxSyI - 1216x684 - 23m27s].png',\n",
       " 'CampusX - Gradient Boosting for Classification Geometric Intuition CampusX [4p5EQtyxSyI - 1216x684 - 31m43s].png',\n",
       " 'CampusX - Gradient Boosting for Classification Geometric Intuition CampusX [4p5EQtyxSyI - 1216x684 - 32m01s].png',\n",
       " 'CampusX - Gradient Boosting for Classification Geometric Intuition CampusX [4p5EQtyxSyI - 1216x684 - 32m20s].png',\n",
       " 'CampusX - Gradient Boosting for Classification Geometric Intuition CampusX [4p5EQtyxSyI - 1216x684 - 35m03s].png',\n",
       " 'CampusX - Introduction to Ensemble Learning Ensemble Techniques in Machine Learning [bHK1fE_BUms - 1216x684 - 12m18s].png',\n",
       " 'CampusX - Introduction to Ensemble Learning Ensemble Techniques in Machine Learning [bHK1fE_BUms - 1216x684 - 12m52s].png',\n",
       " 'CampusX - Introduction to Ensemble Learning Ensemble Techniques in Machine Learning [bHK1fE_BUms - 1216x684 - 14m15s].png',\n",
       " 'CampusX - Introduction to Ensemble Learning Ensemble Techniques in Machine Learning [bHK1fE_BUms - 1216x684 - 17m01s].png',\n",
       " 'CampusX - Introduction to Ensemble Learning Ensemble Techniques in Machine Learning [bHK1fE_BUms - 1216x684 - 19m21s].png',\n",
       " 'CampusX - Introduction to Ensemble Learning Ensemble Techniques in Machine Learning [bHK1fE_BUms - 1216x684 - 21m34s].png',\n",
       " 'CampusX - Introduction to Ensemble Learning Ensemble Techniques in Machine Learning [bHK1fE_BUms - 1216x684 - 25m47s].png',\n",
       " 'CampusX - Introduction to Ensemble Learning Ensemble Techniques in Machine Learning [bHK1fE_BUms - 1216x684 - 26m01s].png',\n",
       " 'CampusX - Introduction to Ensemble Learning Ensemble Techniques in Machine Learning [bHK1fE_BUms - 1216x684 - 29m56s].png',\n",
       " 'CampusX - Introduction to Ensemble Learning Ensemble Techniques in Machine Learning [bHK1fE_BUms - 1216x684 - 6m38s] (1).png',\n",
       " 'CampusX - Introduction to Ensemble Learning Ensemble Techniques in Machine Learning [bHK1fE_BUms - 1216x684 - 6m38s].png',\n",
       " 'HYPERPARAMETER.webp']"
      ]
     },
     "execution_count": 18,
     "metadata": {},
     "output_type": "execute_result"
    }
   ],
   "source": [
    "path = r\"E:\\Data Science\\Ensembal\"\n",
    "os.listdir(path)"
   ]
  },
  {
   "cell_type": "code",
   "execution_count": null,
   "id": "9f0cc743",
   "metadata": {},
   "outputs": [
    {
     "data": {
      "text/plain": [
       "'c:\\\\Users\\\\kumaw\\\\OneDrive\\\\Desktop\\\\Data Science 16 june\\\\OS'"
      ]
     },
     "execution_count": 19,
     "metadata": {},
     "output_type": "execute_result"
    }
   ],
   "source": [
    "os.getcwd()"
   ]
  },
  {
   "cell_type": "code",
   "execution_count": null,
   "id": "038517b7",
   "metadata": {},
   "outputs": [
    {
     "data": {
      "text/plain": [
       "True"
      ]
     },
     "execution_count": 20,
     "metadata": {},
     "output_type": "execute_result"
    }
   ],
   "source": [
    "# for file \n",
    "os.path.isfile(r\"C:\\Users\\kumaw\\OneDrive\\Desktop\\Data Science 16 june\\OS\\os.ipynb\")\n"
   ]
  },
  {
   "cell_type": "code",
   "execution_count": null,
   "id": "b586adb9",
   "metadata": {},
   "outputs": [
    {
     "data": {
      "text/plain": [
       "False"
      ]
     },
     "execution_count": 21,
     "metadata": {},
     "output_type": "execute_result"
    }
   ],
   "source": [
    "os.path.isfile(r\"C:\\Users\\kumaw\\OneDrive\\Desktop\\Data Science 16 june\\OS\\os2.ipynb\")\n"
   ]
  },
  {
   "cell_type": "code",
   "execution_count": null,
   "id": "17969ed5",
   "metadata": {},
   "outputs": [
    {
     "data": {
      "text/plain": [
       "True"
      ]
     },
     "execution_count": 22,
     "metadata": {},
     "output_type": "execute_result"
    }
   ],
   "source": [
    "# for dir\n",
    "\n",
    "\n",
    "os.path.isdir(r\"C:\\Users\\kumaw\\OneDrive\\Desktop\\Data Science 16 june\\OS\")\n"
   ]
  },
  {
   "cell_type": "code",
   "execution_count": null,
   "id": "613f0534",
   "metadata": {},
   "outputs": [
    {
     "data": {
      "text/plain": [
       "False"
      ]
     },
     "execution_count": 23,
     "metadata": {},
     "output_type": "execute_result"
    }
   ],
   "source": [
    "# for dir\n",
    "\n",
    "\n",
    "os.path.isdir(r\"C:\\Users\\kumaw\\OneDrive\\Desktop\\Data Science 16 june\\Govind\")\n"
   ]
  },
  {
   "cell_type": "code",
   "execution_count": null,
   "id": "6f2bb717",
   "metadata": {},
   "outputs": [
    {
     "name": "stdout",
     "output_type": "stream",
     "text": [
      "your complete path:-  C:\\Users\\kumaw\\OneDrive\\Desktop\\Data Science 16 june\\OS\n",
      "your list ['os.ipynb']\n"
     ]
    }
   ],
   "source": [
    "path1 = r\"C:\\Users\\kumaw\\OneDrive\"\n",
    "path2 = r\"Desktop\\Data Science 16 june\\OS\"\n",
    "complete_path=os.path.join(path1,path2)\n",
    "print(\"your complete path:- \",complete_path)\n",
    "print(\"your list\", os.listdir(complete_path))\n"
   ]
  },
  {
   "cell_type": "code",
   "execution_count": null,
   "id": "46d32f8a",
   "metadata": {},
   "outputs": [
    {
     "name": "stdout",
     "output_type": "stream",
     "text": [
      "folder size:- 0\n"
     ]
    }
   ],
   "source": [
    "path = r\"C:\\Users\\kumaw\\OneDrive\\Desktop\\Data Science 16 june\\OS\"\n",
    "size =os.path.getsize(path)\n",
    "print(\"folder size:-\", size)"
   ]
  },
  {
   "cell_type": "code",
   "execution_count": null,
   "id": "254883b8",
   "metadata": {},
   "outputs": [
    {
     "name": "stdout",
     "output_type": "stream",
     "text": [
      "folder size:- 0\n"
     ]
    }
   ],
   "source": [
    "path = r\"E:\\vedio\"\n",
    "size =os.path.getsize(os.getcwd())\n",
    "print(\"folder size:-\", size)"
   ]
  },
  {
   "cell_type": "code",
   "execution_count": null,
   "id": "b2a42dbc",
   "metadata": {},
   "outputs": [],
   "source": [
    "\n",
    "# lambda Funtion\n",
    "# anonymous funtion \n",
    "# syntax \n",
    "# lambda arguments: expression "
   ]
  },
  {
   "cell_type": "code",
   "execution_count": null,
   "id": "349ed5bc",
   "metadata": {},
   "outputs": [
    {
     "name": "stdout",
     "output_type": "stream",
     "text": [
      "8\n"
     ]
    }
   ],
   "source": [
    "add=lambda x , y :x+y\n",
    "print(add(5,3))"
   ]
  },
  {
   "cell_type": "code",
   "execution_count": null,
   "id": "9d583f0b",
   "metadata": {},
   "outputs": [
    {
     "name": "stdout",
     "output_type": "stream",
     "text": [
      "8\n"
     ]
    }
   ],
   "source": [
    "print(add(5,3))"
   ]
  },
  {
   "cell_type": "code",
   "execution_count": null,
   "id": "1340d561",
   "metadata": {},
   "outputs": [
    {
     "data": {
      "text/plain": [
       "16"
      ]
     },
     "execution_count": 35,
     "metadata": {},
     "output_type": "execute_result"
    }
   ],
   "source": [
    "squre=lambda x :x**2\n",
    "squre(4)"
   ]
  },
  {
   "cell_type": "code",
   "execution_count": null,
   "id": "feaf1b2a",
   "metadata": {},
   "outputs": [],
   "source": [
    "# numpy \n",
    "# pandas \n",
    "# matplotlib \n",
    "# seaborn \n",
    "# sklearn\n",
    "# # flask >>>>>>>>>>>html css \n",
    "# nltk\n",
    "# os \n",
    "# tensorflow\n",
    "# pytorch\n",
    "# opencv\n",
    "# re \n"
   ]
  },
  {
   "cell_type": "code",
   "execution_count": null,
   "id": "52806a95",
   "metadata": {},
   "outputs": [],
   "source": [
    "lst  = [\"Raj\",\"Sunil\",\"vishal\",\"HIMANSHU \",\"Ritik\",\"PARIMAL\"] \n",
    "itar =iter(lst)\n"
   ]
  },
  {
   "cell_type": "code",
   "execution_count": null,
   "id": "cf1e2c71",
   "metadata": {},
   "outputs": [
    {
     "ename": "StopIteration",
     "evalue": "",
     "output_type": "error",
     "traceback": [
      "\u001b[1;31m---------------------------------------------------------------------------\u001b[0m",
      "\u001b[1;31mStopIteration\u001b[0m                             Traceback (most recent call last)",
      "Cell \u001b[1;32mIn[45], line 1\u001b[0m\n\u001b[1;32m----> 1\u001b[0m \u001b[38;5;28;43mnext\u001b[39;49m\u001b[43m(\u001b[49m\u001b[43mitar\u001b[49m\u001b[43m)\u001b[49m\n",
      "\u001b[1;31mStopIteration\u001b[0m: "
     ]
    }
   ],
   "source": [
    "next(itar)"
   ]
  },
  {
   "cell_type": "code",
   "execution_count": null,
   "id": "3acc6c01",
   "metadata": {},
   "outputs": [
    {
     "name": "stdout",
     "output_type": "stream",
     "text": [
      "Raj\n",
      "Sunil\n",
      "vishal\n",
      "HIMANSHU \n",
      "Ritik\n",
      "PARIMAL\n"
     ]
    }
   ],
   "source": [
    "for x in lst:\n",
    "    print(x )"
   ]
  },
  {
   "cell_type": "code",
   "execution_count": null,
   "id": "dd3563f5",
   "metadata": {},
   "outputs": [],
   "source": []
  }
 ],
 "metadata": {
  "kernelspec": {
   "display_name": "Python 3",
   "language": "python",
   "name": "python3"
  },
  "language_info": {
   "codemirror_mode": {
    "name": "ipython",
    "version": 3
   },
   "file_extension": ".py",
   "mimetype": "text/x-python",
   "name": "python",
   "nbconvert_exporter": "python",
   "pygments_lexer": "ipython3",
   "version": "3.11.5"
  }
 },
 "nbformat": 4,
 "nbformat_minor": 5
}
